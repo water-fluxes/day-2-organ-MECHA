{
 "cells": [
  {
   "cell_type": "markdown",
   "id": "752b5762-86af-433d-a02d-8d072b3f2cfc",
   "metadata": {},
   "source": [
    "MECHA:\n",
    "Upon this generated cross-section and the cell hydraulic properties defined in Hydraulic.xml MECHA estimates the radial hydraulic conductivities (for three scenarios: 1 = an endodermal casparian strip, 2 = a fully suberized endodermis, 3 = fully suberized endodermis and a casparian strip on the exodermis.\n",
    "\n",
    "Change kernel to Python to launch the following script. Once the kernel is changed, all variables stored in R are gone."
   ]
  },
  {
   "cell_type": "code",
   "execution_count": null,
   "id": "d68412b6-192f-4245-bc77-1a5344c251cd",
   "metadata": {},
   "outputs": [],
   "source": [
    "import ipywidgets as widgets"
   ]
  },
  {
   "cell_type": "code",
   "execution_count": null,
   "id": "5e0baa53-17d5-4b7e-b633-653191b9105f",
   "metadata": {},
   "outputs": [],
   "source": [
    "print(\"Kw: hydraulic conductivity of standard walls [cm^2/hPa/d]\")\n",
    "kwa = widgets.FloatText(min = 5E-6, max = 5E-4, step = 5E-6, value = 2.4E-4)\n",
    "kwb = widgets.FloatSlider(min = 5E-6, max = 5E-4, step = 5E-6, value = 2.4E-4, readout_format = '.5f')\n",
    "display(kwa,kwb)\n",
    "kwlink = widgets.link((kwa, 'value'), (kwb, 'value'))\n"
   ]
  },
  {
   "cell_type": "code",
   "execution_count": null,
   "id": "b9a39846-e0cb-42c2-b5ee-8c730f54d260",
   "metadata": {},
   "outputs": [],
   "source": [
    "kma = widgets.FloatText(min = 5E-6, max = 5E-4, step = 5E-6, value = 3E-5)\n",
    "kmb = widgets.FloatSlider(min = 5E-6, max = 5E-4, step = 5E-6, value = 3E-5, readout_format = '.5f')\n",
    "display(kma, kmb)\n",
    "mylink = widgets.link((kma, 'value'), (kmb, 'value'))"
   ]
  },
  {
   "cell_type": "code",
   "execution_count": null,
   "id": "d9cc1dc9-e5d2-457b-96be-95e52a659ce1",
   "metadata": {},
   "outputs": [],
   "source": [
    "kw = kwa.value\n",
    "km = kma.value"
   ]
  },
  {
   "cell_type": "code",
   "execution_count": null,
   "id": "947a3963-da9f-4020-8eba-428ee1b95c77",
   "metadata": {},
   "outputs": [],
   "source": [
    "from mecha_function import *\n",
    "\n",
    "mecha()"
   ]
  },
  {
   "cell_type": "markdown",
   "id": "4ae83bc8-d325-4e6e-a0de-92c76da4f529",
   "metadata": {},
   "source": [
    "This last script cell might take a 2 to 5 min to run and gives the estimated hydraulic properties.\n",
    "\n",
    "To visualize the results change again the kernel to R. Sorry about that, my python skills are not that good.\n"
   ]
  },
  {
   "cell_type": "code",
   "execution_count": null,
   "id": "1d3d6d79-2a27-48b6-bc42-848c57025172",
   "metadata": {},
   "outputs": [],
   "source": [
    "# Loading again the R library\n",
    "library(tidyverse)\n",
    "library(plyr)\n",
    "library(deldir)\n",
    "library(sp)\n",
    "library(xml2)\n",
    "library(viridis)\n",
    "\n",
    "source(\"./GRANAR/R/granar.R\")"
   ]
  },
  {
   "cell_type": "markdown",
   "id": "e2170a18-5211-4076-b1e1-ede428357ad5",
   "metadata": {},
   "source": [
    "Upload MECHA output "
   ]
  },
  {
   "cell_type": "code",
   "execution_count": null,
   "id": "b8daaf87-cbb2-4107-ad1a-dce2643397ad",
   "metadata": {},
   "outputs": [],
   "source": [
    "Flux1 <- ApoSymp2(\"MECHA/Projects/granar/out/Root/Project_Test/baseline/Macro_prop_1,0.txt\")\n",
    "Flux2 <- ApoSymp2(\"MECHA/Projects/granar/out/Root/Project_Test/baseline/Macro_prop_2,1.txt\")\n",
    "Flux3 <- ApoSymp2(\"MECHA/Projects/granar/out/Root/Project_Test/baseline/Macro_prop_4,2.txt\")"
   ]
  },
  {
   "cell_type": "markdown",
   "id": "63320b05-0a35-453e-885c-4f1e8056696e",
   "metadata": {},
   "source": [
    "Plot the results to see the symplastic water fluxes (in blue) and the apoplastic fluxes (in light brown). The sum of the two water fluxes equals to the total water fluxes. Once the water is in the stele, the water is being lifted by the xylem poles."
   ]
  },
  {
   "cell_type": "code",
   "execution_count": null,
   "id": "40e9af03-a930-4f9d-8d28-d244d57844a6",
   "metadata": {},
   "outputs": [],
   "source": [
    "plot_water_flux(Flux1, apobar = 1)\n",
    "plot_water_flux(Flux2, apobar = 2)\n",
    "plot_water_flux(Flux3, apobar = 3)"
   ]
  }
 ],
 "metadata": {
  "kernelspec": {
   "display_name": "Python 3 (ipykernel)",
   "language": "python",
   "name": "python3"
  },
  "language_info": {
   "codemirror_mode": {
    "name": "ipython",
    "version": 3
   },
   "file_extension": ".py",
   "mimetype": "text/x-python",
   "name": "python",
   "nbconvert_exporter": "python",
   "pygments_lexer": "ipython3",
   "version": "3.7.12"
  }
 },
 "nbformat": 4,
 "nbformat_minor": 5
}
