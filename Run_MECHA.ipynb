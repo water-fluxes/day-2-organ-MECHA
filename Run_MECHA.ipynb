{
 "cells": [
  {
   "cell_type": "markdown",
   "metadata": {
    "deletable": true,
    "editable": true
   },
   "source": [
    "MECHA:\n",
    "Upon this generated cross-section and the cell hydraulic properties defined in Hydraulic.xml MECHA estimates the radial hydraulic conductivities (for three scenarios: 1 = an endodermal casparian strip, 2 = a fully suberized endodermis, 3 = fully suberized endodermis and a casparian strip on the exodermis.\n",
    "\n",
    "Change kernel to Python to launch the following script. Once the kernel is changed, all variables stored in R are gone."
   ]
  },
  {
   "cell_type": "code",
   "execution_count": 2,
   "metadata": {
    "collapsed": false,
    "deletable": true,
    "editable": true
   },
   "outputs": [
    {
     "name": "stdout",
     "output_type": "stream",
     "text": [
      "Importing geometrical data\n",
      "Import Geometrical data\n",
      "Creating network nodes\n",
      "Creating network connections\n",
      "Importing hydraulic data\n",
      "Maturity #0 with apoplastic barrier type #1\n",
      "Radial conductivity: 0.00016366878594094897 cm/hPa/d\n",
      "Maturity #1 with apoplastic barrier type #4\n",
      "Radial conductivity: 4.794135423239936e-05 cm/hPa/d\n",
      "End of mecha\n"
     ]
    }
   ],
   "source": [
    "from mecha_function import *\n",
    "\n",
    "mecha()"
   ]
  }
 ],
 "metadata": {
  "kernelspec": {
   "display_name": "Python 3",
   "language": "python",
   "name": "python3"
  },
  "language_info": {
   "codemirror_mode": {
    "name": "ipython",
    "version": 3
   },
   "file_extension": ".py",
   "mimetype": "text/x-python",
   "name": "python",
   "nbconvert_exporter": "python",
   "pygments_lexer": "ipython3",
   "version": "3.5.2"
  }
 },
 "nbformat": 4,
 "nbformat_minor": 5
}
